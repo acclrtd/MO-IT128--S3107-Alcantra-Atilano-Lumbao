{
 "cells": [
  {
   "cell_type": "markdown",
   "id": "497b3744-ee20-4777-803f-942f6e116398",
   "metadata": {},
   "source": [
    "### WEEK 2 ###"
   ]
  },
  {
   "cell_type": "code",
   "execution_count": 17,
   "id": "2bfe71a0-948e-43a7-abc0-e6cb86fe42eb",
   "metadata": {},
   "outputs": [],
   "source": [
    "import pandas as pd"
   ]
  },
  {
   "cell_type": "code",
   "execution_count": 21,
   "id": "e7e74133-fa1f-4c71-b4df-3450709d02b3",
   "metadata": {},
   "outputs": [
    {
     "name": "stdout",
     "output_type": "stream",
     "text": [
      "   Transaction_ID  Customer_ID    Transaction_Date  Transaction_Amount  \\\n",
      "0               1          393  2023-01-01 0:00:00              3472.0   \n",
      "1               2          826  2023-01-01 1:00:00                 NaN   \n",
      "2               3          916  2023-01-01 2:00:00                10.0   \n",
      "3               4          109  2023-01-01 3:00:00                72.0   \n",
      "4               5          889  2023-01-01 4:00:00              1793.0   \n",
      "\n",
      "  Transaction_Type  \n",
      "0         Purchase  \n",
      "1     Bill Payment  \n",
      "2         Purchase  \n",
      "3       Investment  \n",
      "4       Investment  \n"
     ]
    }
   ],
   "source": [
    "path_to_file = r\"C:\\Users\\roero\\Desktop\\Data Mining\\Transaction_Data - Transaction_Data.csv\"\n",
    "Transaction_Data = pd.read_csv(path_to_file)"
   ]
  },
  {
   "cell_type": "code",
   "execution_count": 23,
   "id": "0e82839a-8afe-44a6-84fe-1eb52917d24a",
   "metadata": {},
   "outputs": [
    {
     "name": "stdout",
     "output_type": "stream",
     "text": [
      "   Transaction_ID  Customer_ID    Transaction_Date  Transaction_Amount  \\\n",
      "0               1          393  2023-01-01 0:00:00              3472.0   \n",
      "1               2          826  2023-01-01 1:00:00                 NaN   \n",
      "2               3          916  2023-01-01 2:00:00                10.0   \n",
      "3               4          109  2023-01-01 3:00:00                72.0   \n",
      "4               5          889  2023-01-01 4:00:00              1793.0   \n",
      "\n",
      "  Transaction_Type  \n",
      "0         Purchase  \n",
      "1     Bill Payment  \n",
      "2         Purchase  \n",
      "3       Investment  \n",
      "4       Investment  \n"
     ]
    }
   ],
   "source": [
    "print(Transaction_Data.head())"
   ]
  },
  {
   "cell_type": "code",
   "execution_count": 58,
   "id": "6159740e-6bc2-4631-a3ca-52c95f332fe8",
   "metadata": {},
   "outputs": [
    {
     "name": "stdout",
     "output_type": "stream",
     "text": [
      "   Transaction_ID  Customer_ID    Transaction_Date  Transaction_Amount  \\\n",
      "0               1          393  2023-01-01 0:00:00              3472.0   \n",
      "1               2          826  2023-01-01 1:00:00                 NaN   \n",
      "2               3          916  2023-01-01 2:00:00                10.0   \n",
      "3               4          109  2023-01-01 3:00:00                72.0   \n",
      "4               5          889  2023-01-01 4:00:00              1793.0   \n",
      "\n",
      "  Transaction_Type  \n",
      "0         Purchase  \n",
      "1     Bill Payment  \n",
      "2         Purchase  \n",
      "3       Investment  \n",
      "4       Investment  \n"
     ]
    }
   ],
   "source": [
    "import pandas as pd\n",
    "path_to_file = r\"C:\\Users\\roero\\Desktop\\Data Mining\\Transaction_Data - Transaction_Data.csv\"\n",
    "Transaction_Data = pd.read_csv(path_to_file)\n",
    "print(Transaction_Data.head())"
   ]
  },
  {
   "cell_type": "code",
   "execution_count": 100,
   "id": "856fb9d7-590c-4814-9af0-8cf64b90984b",
   "metadata": {},
   "outputs": [
    {
     "name": "stdout",
     "output_type": "stream",
     "text": [
      "5050\n"
     ]
    }
   ],
   "source": [
    "import pandas as pd\n",
    "df = pd.read_csv(r\"C:\\Users\\roero\\Desktop\\Data Mining\\Transaction_Data - Transaction_Data.csv\")\n",
    "num_entries = df.shape[0]\n",
    "print(num_entries)"
   ]
  },
  {
   "cell_type": "code",
   "execution_count": 102,
   "id": "e1724f52-0b6e-4c17-a914-e1366fe34ee4",
   "metadata": {},
   "outputs": [
    {
     "name": "stdout",
     "output_type": "stream",
     "text": [
      "<class 'pandas.core.frame.DataFrame'>\n",
      "RangeIndex: 5050 entries, 0 to 5049\n",
      "Data columns (total 5 columns):\n",
      " #   Column              Non-Null Count  Dtype  \n",
      "---  ------              --------------  -----  \n",
      " 0   Transaction_ID      5050 non-null   int64  \n",
      " 1   Customer_ID         5050 non-null   int64  \n",
      " 2   Transaction_Date    5050 non-null   object \n",
      " 3   Transaction_Amount  4950 non-null   float64\n",
      " 4   Transaction_Type    5050 non-null   object \n",
      "dtypes: float64(1), int64(2), object(2)\n",
      "memory usage: 197.4+ KB\n"
     ]
    }
   ],
   "source": [
    "df.info ()"
   ]
  },
  {
   "cell_type": "code",
   "execution_count": 104,
   "id": "9f1f6b84-0a41-43d3-85bb-37931a315fb3",
   "metadata": {},
   "outputs": [
    {
     "data": {
      "text/plain": [
       "Transaction_ID          0\n",
       "Customer_ID             0\n",
       "Transaction_Date        0\n",
       "Transaction_Amount    100\n",
       "Transaction_Type        0\n",
       "dtype: int64"
      ]
     },
     "execution_count": 104,
     "metadata": {},
     "output_type": "execute_result"
    }
   ],
   "source": [
    "df.isnull().sum ()"
   ]
  },
  {
   "cell_type": "code",
   "execution_count": 6,
   "id": "66148689-f041-4ee2-adf0-4f427ba47784",
   "metadata": {},
   "outputs": [],
   "source": [
    "import pandas as pd"
   ]
  },
  {
   "cell_type": "code",
   "execution_count": 11,
   "id": "7522f2dd-9ef4-4a21-b89d-04bfc6c71b99",
   "metadata": {},
   "outputs": [],
   "source": [
    "df = pd.read_csv(r\"C:\\Users\\roero\\Desktop\\Data Mining\\Transaction_Data - Transaction_Data.csv\")"
   ]
  },
  {
   "cell_type": "code",
   "execution_count": 13,
   "id": "86e7483c-648b-4f60-93a2-9da3cd082799",
   "metadata": {},
   "outputs": [
    {
     "data": {
      "text/plain": [
       "Transaction_ID          0\n",
       "Customer_ID             0\n",
       "Transaction_Date        0\n",
       "Transaction_Amount    100\n",
       "Transaction_Type        0\n",
       "dtype: int64"
      ]
     },
     "execution_count": 13,
     "metadata": {},
     "output_type": "execute_result"
    }
   ],
   "source": [
    "df.isnull().sum ()"
   ]
  },
  {
   "cell_type": "code",
   "execution_count": null,
   "id": "a8534dae-f36d-4e08-9e41-3e648fbf11e1",
   "metadata": {},
   "outputs": [],
   "source": []
  },
  {
   "cell_type": "code",
   "execution_count": null,
   "id": "86c4b77b-975b-4a72-a09e-4ea163da88dd",
   "metadata": {},
   "outputs": [],
   "source": []
  },
  {
   "cell_type": "code",
   "execution_count": null,
   "id": "6e8e437a-07f9-44de-ab8d-50a2a5e20ac0",
   "metadata": {},
   "outputs": [],
   "source": []
  },
  {
   "cell_type": "code",
   "execution_count": null,
   "id": "7bce806c-7763-48c9-91a7-8fe3c55fe9b6",
   "metadata": {},
   "outputs": [],
   "source": []
  },
  {
   "cell_type": "code",
   "execution_count": null,
   "id": "2ca6cc54-412a-44e6-bf4d-bc75ba0ad67f",
   "metadata": {},
   "outputs": [],
   "source": []
  }
 ],
 "metadata": {
  "kernelspec": {
   "display_name": "Python [conda env:base]",
   "language": "python",
   "name": "conda-base-py"
  },
  "language_info": {
   "codemirror_mode": {
    "name": "ipython",
    "version": 3
   },
   "file_extension": ".py",
   "mimetype": "text/x-python",
   "name": "python",
   "nbconvert_exporter": "python",
   "pygments_lexer": "ipython3",
   "version": "3.12.7"
  }
 },
 "nbformat": 4,
 "nbformat_minor": 5
}
