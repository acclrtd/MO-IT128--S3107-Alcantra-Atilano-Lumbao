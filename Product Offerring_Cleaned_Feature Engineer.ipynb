{
 "cells": [
  {
   "cell_type": "code",
   "execution_count": 1,
   "id": "66c30f8b-2558-414a-97ef-6364cd53a3e1",
   "metadata": {},
   "outputs": [
    {
     "name": "stdout",
     "output_type": "stream",
     "text": [
      "    Product_ID                   Product_Name     Product_Type Risk_Level  \\\n",
      "0            1           Platinum Credit Card      Credit Card     Medium   \n",
      "1            2           Gold Savings Account  Savings Account        Low   \n",
      "2            3  High-Yield Investment Account       Investment       High   \n",
      "3            4                  Mortgage Loan             Loan     Medium   \n",
      "4            5                      Auto Loan             Loan     Medium   \n",
      "5            6                  Personal Loan             Loan     Medium   \n",
      "6            7          Youth Savings Account  Savings Account        Low   \n",
      "7            8     Retirement Investment Fund       Investment       High   \n",
      "8            9                  Business Loan             Loan     Medium   \n",
      "9           10             Travel Credit Card      Credit Card     Medium   \n",
      "10           2           Gold Savings Account  Savings Account        Low   \n",
      "11          10             Travel Credit Card      Credit Card     Medium   \n",
      "12           3  High-Yield Investment Account       Investment       High   \n",
      "13           6                  Personal Loan             Loan     Medium   \n",
      "14           1           Platinum Credit Card      Credit Card     Medium   \n",
      "\n",
      "    Target_Age_Group Target_Income_Group  \n",
      "0                NaN              Medium  \n",
      "1                NaN                 Low  \n",
      "2                NaN                High  \n",
      "3                NaN                High  \n",
      "4                NaN              Medium  \n",
      "5                NaN                 Low  \n",
      "6                NaN                 Low  \n",
      "7                NaN                High  \n",
      "8                NaN              Medium  \n",
      "9                NaN              Medium  \n",
      "10               NaN                 Low  \n",
      "11               NaN              Medium  \n",
      "12               NaN                High  \n",
      "13               NaN                 Low  \n",
      "14               NaN              Medium  \n"
     ]
    }
   ],
   "source": [
    "import pandas as pd\n",
    "df = pd.read_csv('C:/Users/rlumbao/Downloads/Product_Offering_Data.csv')\n",
    "print(df)"
   ]
  },
  {
   "cell_type": "code",
   "execution_count": 3,
   "id": "60d26d5a-544e-46ee-a7ef-b11596e9a59f",
   "metadata": {},
   "outputs": [
    {
     "name": "stdout",
     "output_type": "stream",
     "text": [
      "   Product_ID                   Product_Name     Product_Type Risk_Level  \\\n",
      "0           1           Platinum Credit Card      Credit Card     Medium   \n",
      "1           2           Gold Savings Account  Savings Account        Low   \n",
      "2           3  High-Yield Investment Account       Investment       High   \n",
      "3           4                  Mortgage Loan             Loan     Medium   \n",
      "4           5                      Auto Loan             Loan     Medium   \n",
      "5           6                  Personal Loan             Loan     Medium   \n",
      "6           7          Youth Savings Account  Savings Account        Low   \n",
      "7           8     Retirement Investment Fund       Investment       High   \n",
      "8           9                  Business Loan             Loan     Medium   \n",
      "9          10             Travel Credit Card      Credit Card     Medium   \n",
      "\n",
      "   Target_Age_Group Target_Income_Group  \n",
      "0               NaN              Medium  \n",
      "1               NaN                 Low  \n",
      "2               NaN                High  \n",
      "3               NaN                High  \n",
      "4               NaN              Medium  \n",
      "5               NaN                 Low  \n",
      "6               NaN                 Low  \n",
      "7               NaN                High  \n",
      "8               NaN              Medium  \n",
      "9               NaN              Medium  \n"
     ]
    }
   ],
   "source": [
    "import pandas as pd\n",
    "df = pd.read_csv('C:/Users/rlumbao/Downloads/Product_Offering_Data.csv')\n",
    "df_cleaned = df.drop_duplicates()\n",
    "print(df_cleaned)"
   ]
  },
  {
   "cell_type": "code",
   "execution_count": 7,
   "id": "50ad58d1-ebdb-40bc-9c83-22b42bed3be6",
   "metadata": {},
   "outputs": [
    {
     "name": "stdout",
     "output_type": "stream",
     "text": [
      "   Product_ID                   Product_Name     Product_Type Risk_Level  \\\n",
      "0           1           Platinum Credit Card      Credit Card     Medium   \n",
      "1           2           Gold Savings Account  Savings Account        Low   \n",
      "2           3  High-Yield Investment Account       Investment       High   \n",
      "3           4                  Mortgage Loan             Loan     Medium   \n",
      "4           5                      Auto Loan             Loan     Medium   \n",
      "5           6                  Personal Loan             Loan     Medium   \n",
      "6           7          Youth Savings Account  Savings Account        Low   \n",
      "7           8     Retirement Investment Fund       Investment       High   \n",
      "8           9                  Business Loan             Loan     Medium   \n",
      "9          10             Travel Credit Card      Credit Card     Medium   \n",
      "\n",
      "  Target_Age_Group Target_Income_Group  \n",
      "0            26-40              Medium  \n",
      "1            18-25                 Low  \n",
      "2            40-60                High  \n",
      "3            26-40                High  \n",
      "4            26-40              Medium  \n",
      "5            26-40                 Low  \n",
      "6            18-25                 Low  \n",
      "7            40-60                High  \n",
      "8            26-40              Medium  \n",
      "9            26-40              Medium  \n"
     ]
    }
   ],
   "source": [
    "import pandas as pd\n",
    "df = pd.read_csv('C:/Users/rlumbao/Downloads/Product_Offering_Data.csv')\n",
    "df_cleaned = df.drop_duplicates().copy()\n",
    "def assign_age_group(row):\n",
    "    if row['Risk_Level'] == 'Low':\n",
    "        return '18-25'\n",
    "    elif row['Risk_Level'] == 'Medium':\n",
    "        return '26-40'\n",
    "    elif row['Risk_Level'] == 'High':\n",
    "        return '40-60'\n",
    "    else:\n",
    "        return 'Unknown'\n",
    "\n",
    "df_cleaned['Target_Age_Group'] = df_cleaned.apply(assign_age_group, axis=1)\n",
    "df_cleaned['Target_Age_Group'] = df_cleaned['Target_Age_Group'].astype(str)\n",
    "print(df_cleaned)"
   ]
  },
  {
   "cell_type": "code",
   "execution_count": 11,
   "id": "72635185-8114-4812-82fa-3122dd9bc8b8",
   "metadata": {},
   "outputs": [
    {
     "name": "stdout",
     "output_type": "stream",
     "text": [
      "   Product_ID                   Product_Name     Product_Type Risk_Level  \\\n",
      "0           1           Platinum Credit Card      Credit Card     Medium   \n",
      "1           2           Gold Savings Account  Savings Account        Low   \n",
      "2           3  High-Yield Investment Account       Investment       High   \n",
      "3           4                  Mortgage Loan             Loan     Medium   \n",
      "4           5                      Auto Loan             Loan     Medium   \n",
      "5           6                  Personal Loan             Loan     Medium   \n",
      "6           7          Youth Savings Account  Savings Account        Low   \n",
      "7           8     Retirement Investment Fund       Investment       High   \n",
      "8           9                  Business Loan             Loan     Medium   \n",
      "9          10             Travel Credit Card      Credit Card     Medium   \n",
      "\n",
      "  Target_Age_Group Target_Income_Group  Risk_Level_Encoded  \n",
      "0            26-40              Medium                   2  \n",
      "1            18-25                 Low                   1  \n",
      "2            40-60                High                   3  \n",
      "3            26-40                High                   2  \n",
      "4            26-40              Medium                   2  \n",
      "5            26-40                 Low                   2  \n",
      "6            18-25                 Low                   1  \n",
      "7            40-60                High                   3  \n",
      "8            26-40              Medium                   2  \n",
      "9            26-40              Medium                   2  \n"
     ]
    }
   ],
   "source": [
    "df_cleaned['Risk_Level_Encoded'] = df_cleaned['Risk_Level'].map({'Low': 1, 'Medium': 2, 'High': 3,})\n",
    "print(df_cleaned)"
   ]
  },
  {
   "cell_type": "code",
   "execution_count": null,
   "id": "42dfdddf-41ea-47ed-90f6-6c7d41c2597a",
   "metadata": {},
   "outputs": [],
   "source": []
  }
 ],
 "metadata": {
  "kernelspec": {
   "display_name": "Python 3 (ipykernel)",
   "language": "python",
   "name": "python3"
  },
  "language_info": {
   "codemirror_mode": {
    "name": "ipython",
    "version": 3
   },
   "file_extension": ".py",
   "mimetype": "text/x-python",
   "name": "python",
   "nbconvert_exporter": "python",
   "pygments_lexer": "ipython3",
   "version": "3.12.4"
  }
 },
 "nbformat": 4,
 "nbformat_minor": 5
}
