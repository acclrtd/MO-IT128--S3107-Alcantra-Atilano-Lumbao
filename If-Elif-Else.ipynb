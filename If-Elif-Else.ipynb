{
 "cells": [
  {
   "cell_type": "markdown",
   "id": "68bd45fc-09a0-4ff0-a896-21627a113169",
   "metadata": {},
   "source": [
    "## If Elif Else Statement"
   ]
  },
  {
   "cell_type": "code",
   "execution_count": 26,
   "id": "8b0826ba-c3f8-4685-a92d-f14bf3a50128",
   "metadata": {},
   "outputs": [
    {
     "name": "stdout",
     "output_type": "stream",
     "text": [
      "It worked!\n"
     ]
    }
   ],
   "source": [
    "x = 25\n",
    "y = 10\n",
    "z = 35\n",
    "if x > y :\n",
    "    print ('It worked!')"
   ]
  },
  {
   "cell_type": "code",
   "execution_count": 20,
   "id": "3b4418bc-4d3f-4387-a704-b2b3e5b3bb38",
   "metadata": {},
   "outputs": [
    {
     "name": "stdout",
     "output_type": "stream",
     "text": [
      "It worked!\n"
     ]
    }
   ],
   "source": [
    "if x > y :\n",
    "    print ('It worked!')\n",
    "else:\n",
    "    print ('Error not found')"
   ]
  },
  {
   "cell_type": "raw",
   "id": "a1dd6ee7-c2a4-43a6-8295-263ba2acf703",
   "metadata": {},
   "source": [
    "if x < y :\n",
    "    print ('It worked!')\n",
    "elif z > x and y :\n",
    "    print ('Z worked')    \n",
    "else:\n",
    "    print ('Error not found')"
   ]
  },
  {
   "cell_type": "code",
   "execution_count": 37,
   "id": "3fc6d0e8-9923-44a6-9774-e8ede01e171b",
   "metadata": {},
   "outputs": [],
   "source": [
    "#An `if`, `elif`, and `else` statement in Python is used for conditional execution:\n",
    "\n",
    "#1. **if Statement**: Checks a condition; if `True`, executes the associated code block.\n",
    "#2. **elif Statement**: Allows checking additional conditions if the previous `if` is `False`. You can have multiple `elif` statements.\n",
    "#3. **else Statement**: Executes a code block if all preceding conditions are `False`. This part is optional.\n"
   ]
  },
  {
   "cell_type": "raw",
   "id": "f1f40847-bbaf-455a-847a-4aa6cb62de87",
   "metadata": {},
   "source": [
    "Nested If\n",
    "\n",
    "if condition1:\n",
    "    # Code to execute if condition1 is True\n",
    "    if condition2:\n",
    "        # Code to execute if condition2 is True\n",
    "    else:\n",
    "        # Code to execute if condition2 is False\n",
    "else:\n",
    "    # Code to execute if condition1 is False"
   ]
  },
  {
   "cell_type": "code",
   "execution_count": null,
   "id": "808d0c39-67f6-4971-b690-5954feda01bc",
   "metadata": {},
   "outputs": [],
   "source": []
  }
 ],
 "metadata": {
  "kernelspec": {
   "display_name": "Python [conda env:base] *",
   "language": "python",
   "name": "conda-base-py"
  },
  "language_info": {
   "codemirror_mode": {
    "name": "ipython",
    "version": 3
   },
   "file_extension": ".py",
   "mimetype": "text/x-python",
   "name": "python",
   "nbconvert_exporter": "python",
   "pygments_lexer": "ipython3",
   "version": "3.12.7"
  }
 },
 "nbformat": 4,
 "nbformat_minor": 5
}
