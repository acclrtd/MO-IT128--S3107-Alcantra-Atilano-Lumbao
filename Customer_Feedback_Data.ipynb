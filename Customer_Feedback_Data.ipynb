{
 "cells": [
  {
   "cell_type": "markdown",
   "id": "d22ab610-41ce-4d8a-97c1-e548fe60fda8",
   "metadata": {},
   "source": [
    "## Week 2 ##"
   ]
  },
  {
   "cell_type": "code",
   "execution_count": 8,
   "id": "f39513e0-31ed-4aa1-a3ec-9e0bd7493c19",
   "metadata": {},
   "outputs": [],
   "source": [
    "import pandas as pd"
   ]
  },
  {
   "cell_type": "code",
   "execution_count": 14,
   "id": "3ea1d2cd-dbcc-4359-a59c-8c7f0c6f13e3",
   "metadata": {},
   "outputs": [],
   "source": [
    "# Load datasets\n",
    "dataset_path = r\"C:\\Users\\Randy\\OneDrive\\Documents\\Desktop\\Data Mining\\DataSets\\Finmark\\Customer_Feedback_Data.csv\"\n",
    "df = pd.read_csv(dataset_path)"
   ]
  },
  {
   "cell_type": "code",
   "execution_count": 18,
   "id": "4823532f-261d-4189-8b46-8ef993f8a273",
   "metadata": {},
   "outputs": [
    {
     "name": "stdout",
     "output_type": "stream",
     "text": [
      "   Customer_ID  Satisfaction_Score  Feedback_Comments  Likelihood_to_Recommend\n",
      "0            1                10.0     Very satisfied                        9\n",
      "1            2                 3.0     Very satisfied                        3\n",
      "2            3                10.0     Very satisfied                        1\n",
      "3            4                 7.0  Needs improvement                        4\n",
      "4            5                 8.0     Unsatisfactory                        7\n"
     ]
    }
   ],
   "source": [
    "#Printing few rows\n",
    "print(df.head())"
   ]
  },
  {
   "cell_type": "code",
   "execution_count": 26,
   "id": "f040a6ae-d10d-4565-8afb-0d8e61a8bdfd",
   "metadata": {},
   "outputs": [
    {
     "name": "stdout",
     "output_type": "stream",
     "text": [
      "Customer_ID                  0\n",
      "Satisfaction_Score         101\n",
      "Feedback_Comments            0\n",
      "Likelihood_to_Recommend      0\n",
      "dtype: int64\n"
     ]
    }
   ],
   "source": [
    "# Check for missing values\n",
    "print(df.isnull().sum())"
   ]
  },
  {
   "cell_type": "code",
   "execution_count": null,
   "id": "c32bbdbe-d6a4-43b0-8bf5-976e4340db4f",
   "metadata": {},
   "outputs": [],
   "source": []
  },
  {
   "cell_type": "code",
   "execution_count": 22,
   "id": "1bc627e9-9fdc-48d9-abf5-557448b45329",
   "metadata": {},
   "outputs": [
    {
     "name": "stdout",
     "output_type": "stream",
     "text": [
      "<class 'pandas.core.frame.DataFrame'>\n",
      "RangeIndex: 5050 entries, 0 to 5049\n",
      "Data columns (total 4 columns):\n",
      " #   Column                   Non-Null Count  Dtype  \n",
      "---  ------                   --------------  -----  \n",
      " 0   Customer_ID              5050 non-null   int64  \n",
      " 1   Satisfaction_Score       4949 non-null   float64\n",
      " 2   Feedback_Comments        5050 non-null   object \n",
      " 3   Likelihood_to_Recommend  5050 non-null   int64  \n",
      "dtypes: float64(1), int64(2), object(1)\n",
      "memory usage: 157.9+ KB\n"
     ]
    }
   ],
   "source": [
    "df.info()"
   ]
  },
  {
   "cell_type": "code",
   "execution_count": 36,
   "id": "97419b5a-d097-440f-ab5f-5c4c9bbffdbd",
   "metadata": {
    "scrolled": true
   },
   "outputs": [
    {
     "data": {
      "text/plain": [
       "Customer_ID                  0\n",
       "Satisfaction_Score         101\n",
       "Feedback_Comments            0\n",
       "Likelihood_to_Recommend      0\n",
       "dtype: int64"
      ]
     },
     "execution_count": 36,
     "metadata": {},
     "output_type": "execute_result"
    }
   ],
   "source": [
    "df.isnull().sum()\n",
    "#checking of null values"
   ]
  },
  {
   "cell_type": "raw",
   "id": "247f446a-8f8e-4f8a-b48c-5725012187e7",
   "metadata": {},
   "source": [
    "import pandas as pd\n",
    "\n",
    "# Define the feature table as a dictionary\n",
    "feature_table = {\n",
    "    'Customer_ID': {\n",
    "        'Feature Name': 'Customer ID',\n",
    "        'Data Type': 'Integer', \n",
    "        'Description': 'Unique identifier for each customer.'\n",
    "    },\n",
    "    'Satisfaction_Score': {\n",
    "        'Feature Name': 'Satisfaction Score',\n",
    "        'Data Type': 'Float',\n",
    "        'Description': 'Numerical score indicating customer satisfaction (may have missing values).'\n",
    "    },\n",
    "    'Feedback_Comments': {\n",
    "        'Feature Name': 'Feedback Comments',\n",
    "        'Data Type': 'String',\n",
    "        'Description': 'Textual feedback provided by the customer.'\n",
    "    },\n",
    "    'Likelihood_to_Recommend': {\n",
    "        'Feature Name': 'Likelihood to Recommend',\n",
    "        'Data Type': 'Integer',\n",
    "        'Description': 'Integer score representing the likelihood of recommending the product (1–10).'\n",
    "    }\n",
    "}\n",
    "\n",
    "# Convert dictionary to DataFrame\n",
    "df_feature_table = pd.DataFrame(feature_table).T  # Transpose to make features rows\n",
    "df_feature_table.reset_index(drop=True, inplace=True)  # Reset index to avoid showing dictionary keys as index\n",
    "\n",
    "# Reorder columns to make it intuitive\n",
    "df_feature_table = df_feature_table[['Feature Name', 'Data Type', 'Description']]\n",
    "\n",
    "# Display left-aligned table\n",
    "df_feature_table.style.set_properties(**{'text-align': 'left'})\n"
   ]
  },
  {
   "cell_type": "code",
   "execution_count": null,
   "id": "d53b87de-2121-43b5-9542-4754f039a304",
   "metadata": {},
   "outputs": [],
   "source": []
  }
 ],
 "metadata": {
  "kernelspec": {
   "display_name": "Python [conda env:base] *",
   "language": "python",
   "name": "conda-base-py"
  },
  "language_info": {
   "codemirror_mode": {
    "name": "ipython",
    "version": 3
   },
   "file_extension": ".py",
   "mimetype": "text/x-python",
   "name": "python",
   "nbconvert_exporter": "python",
   "pygments_lexer": "ipython3",
   "version": "3.12.7"
  }
 },
 "nbformat": 4,
 "nbformat_minor": 5
}
